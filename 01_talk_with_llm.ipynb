{
 "cells": [
  {
   "cell_type": "code",
   "execution_count": 1,
   "id": "fbe2a24f",
   "metadata": {},
   "outputs": [
    {
     "name": "stdout",
     "output_type": "stream",
     "text": [
      "2\n"
     ]
    }
   ],
   "source": [
    "print(\"2\")"
   ]
  },
  {
   "cell_type": "code",
   "execution_count": 3,
   "id": "2551ed68",
   "metadata": {},
   "outputs": [],
   "source": [
    "import os\n",
    "from dotenv import load_dotenv, find_dotenv\n",
    "\n",
    "_ = load_dotenv(find_dotenv())\n",
    "GEMINI_API_KEY = os.getenv(\"GEMINI_API_KEY\")\n",
    "GROQ_API_KEY = os.getenv(\"GROQ_API_KEY\")\n"
   ]
  },
  {
   "cell_type": "code",
   "execution_count": 7,
   "id": "34042f4f",
   "metadata": {},
   "outputs": [],
   "source": [
    "from langchain_google_genai import ChatGoogleGenerativeAI\n",
    "\n",
    "strict_llmModel = ChatGoogleGenerativeAI(\n",
    "    model=\"gemini-2.0-flash-lite\",\n",
    "    google_api_key=GEMINI_API_KEY,\n",
    "    temperature=0,\n",
    "    max_output_tokens=4096\n",
    ")"
   ]
  },
  {
   "cell_type": "code",
   "execution_count": 9,
   "id": "17557a6d",
   "metadata": {},
   "outputs": [],
   "source": [
    "creative_llmModel = ChatGoogleGenerativeAI(\n",
    "    model=\"gemini-2.0-flash-lite\",\n",
    "    google_api_key=GEMINI_API_KEY,\n",
    "    temperature=0.9,\n",
    "    max_output_tokens=4096\n",
    ")"
   ]
  },
  {
   "cell_type": "code",
   "execution_count": 15,
   "id": "5b222658",
   "metadata": {},
   "outputs": [],
   "source": [
    "message = [\n",
    "  (\"system\", \"You are a historian expert about John F Kennedy.\"),\n",
    "  (\"user\", \"Tell me some curious things of John F Kennedy with some short sentences.\"),\n",
    "]\n",
    "response = creative_llmModel.invoke(message)"
   ]
  },
  {
   "cell_type": "code",
   "execution_count": 16,
   "id": "c5c9f1f0",
   "metadata": {},
   "outputs": [
    {
     "data": {
      "text/plain": [
       "'Alright, here are some curious facts about John F. Kennedy:\\n\\n*   **A Lifelong Sufferer:** Kennedy battled Addison\\'s disease and other ailments, a fact largely kept from the public during his presidency.\\n*   **Literary Aspirations:** He wrote *Profiles in Courage*, which earned him a Pulitzer Prize, though there\\'s debate about the extent of his actual writing.\\n*   **Naval Heroics:** During WWII, Kennedy displayed remarkable bravery after his PT boat was sunk by a Japanese destroyer.\\n*   **Hollywood Connections:** He had connections with Hollywood stars, including Frank Sinatra, whose home was a frequent destination.\\n*   **The \"Camelot\" Myth:** His presidency is often romanticized, often referred to as \"Camelot,\" a term popularized by Jackie Kennedy after his death.\\n*   **Unusual Pets:** The Kennedys had a variety of pets, including a dog named Pushinka, a gift from the Soviet Union.\\n*   **A Family Affair:** His brothers, Robert and Ted, played significant roles in his political career, and after his death.\\n'"
      ]
     },
     "execution_count": 16,
     "metadata": {},
     "output_type": "execute_result"
    }
   ],
   "source": [
    "response.content"
   ]
  },
  {
   "cell_type": "code",
   "execution_count": null,
   "id": "5f3ab37a",
   "metadata": {},
   "outputs": [],
   "source": [
    "from langchain_core.messages import HumanMessage, SystemMessage\n",
    "from langchain_core.prompts import ChatPromptTemplate"
   ]
  },
  {
   "cell_type": "code",
   "execution_count": null,
   "id": "37cbaabe",
   "metadata": {},
   "outputs": [],
   "source": [
    "message = [\n",
    "  SystemMessage(content = \"You are a historian expert about John F Kennedy.\"),\n",
    "  HumanMessage(content = \"Tell me some curious things of John F Kennedy with some short sentences.\"),\n",
    "]\n",
    "response = creative_llmModel.invoke(message)"
   ]
  }
 ],
 "metadata": {
  "kernelspec": {
   "display_name": "learnlangchain",
   "language": "python",
   "name": "python3"
  },
  "language_info": {
   "codemirror_mode": {
    "name": "ipython",
    "version": 3
   },
   "file_extension": ".py",
   "mimetype": "text/x-python",
   "name": "python",
   "nbconvert_exporter": "python",
   "pygments_lexer": "ipython3",
   "version": "3.12.0"
  }
 },
 "nbformat": 4,
 "nbformat_minor": 5
}
