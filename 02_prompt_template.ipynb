{
 "cells": [
  {
   "cell_type": "code",
   "execution_count": 1,
   "id": "8f965840",
   "metadata": {},
   "outputs": [
    {
     "name": "stderr",
     "output_type": "stream",
     "text": [
      "e:\\LangChain project\\learn-LangChain\\learnlangchain\\Lib\\site-packages\\tqdm\\auto.py:21: TqdmWarning: IProgress not found. Please update jupyter and ipywidgets. See https://ipywidgets.readthedocs.io/en/stable/user_install.html\n",
      "  from .autonotebook import tqdm as notebook_tqdm\n"
     ]
    }
   ],
   "source": [
    "import os\n",
    "from dotenv import load_dotenv, find_dotenv\n",
    "from langchain_google_genai import ChatGoogleGenerativeAI\n",
    "\n",
    "_ = load_dotenv(find_dotenv())\n",
    "GEMINI_API_KEY = os.getenv(\"GEMINI_API_KEY\")\n",
    "GROQ_API_KEY = os.getenv(\"GROQ_API_KEY\")\n"
   ]
  },
  {
   "cell_type": "markdown",
   "id": "045a8af5",
   "metadata": {},
   "source": [
    "## Completion model"
   ]
  },
  {
   "cell_type": "code",
   "execution_count": 6,
   "id": "d6a51e29",
   "metadata": {},
   "outputs": [],
   "source": [
    "## Completion model\n",
    "chatModel = ChatGoogleGenerativeAI(\n",
    "    model=\"gemini-2.0-flash-lite\",\n",
    "    google_api_key=GEMINI_API_KEY,\n",
    "    temperature=0.2,\n",
    "    max_output_tokens=4096\n",
    ")"
   ]
  },
  {
   "cell_type": "markdown",
   "id": "871dcfa7",
   "metadata": {},
   "source": [
    "## Prompt templates\n"
   ]
  },
  {
   "cell_type": "code",
   "execution_count": 8,
   "id": "9edaebc9",
   "metadata": {},
   "outputs": [
    {
     "name": "stdout",
     "output_type": "stream",
     "text": [
      "*   **He was a prolific letter writer:** Kennedy penned thousands of letters throughout his life, revealing his thoughts and feelings.\n",
      "*   **He had a love for sailing:** The sea was a source of relaxation and escape for him.\n",
      "*   **He was a war hero:** Kennedy's bravery during World War II earned him the Navy and Marine Corps Medal.\n",
      "*   **He had a reported fondness for Marilyn Monroe:** Their rumored relationship remains a subject of fascination.\n",
      "*   **He was a Pulitzer Prize winner:** Kennedy won the Pulitzer Prize for his book \"Profiles in Courage.\"\n",
      "\n"
     ]
    }
   ],
   "source": [
    "from langchain_core.prompts import PromptTemplate\n",
    "\n",
    "prompt_template = PromptTemplate.from_template(\n",
    "  \"Tell me some {adjective} things of {topic} with some short sentences.\"\n",
    ")\n",
    "\n",
    "llmModelPrompt = prompt_template.format(\n",
    "  adjective=\"curious\",\n",
    "  topic=\"John F Kennedy\" \n",
    ")\n",
    "\n",
    "response = chatModel.invoke(llmModelPrompt)\n",
    "print(response.content)"
   ]
  },
  {
   "cell_type": "code",
   "execution_count": 20,
   "id": "2f401454",
   "metadata": {},
   "outputs": [
    {
     "name": "stdout",
     "output_type": "stream",
     "text": [
      "Okay, here are some curious facts about John F. Kennedy:\n",
      "\n",
      "*   **He was a prolific letter writer:** Kennedy wrote thousands of letters throughout his life, offering insights into his thoughts and feelings.\n",
      "*   **He had a love for sailing:** Kennedy owned a sailboat named \"Honey Fitz\" and enjoyed spending time on the water.\n",
      "*   **He was a skilled swimmer:** Kennedy was a strong swimmer and even saved a crew member during World War II.\n",
      "*   **He had a penchant for reading:** Kennedy was known to read extensively, often carrying books with him.\n",
      "*   **He was a fashion icon:** Kennedy's style, including his tailored suits and classic hairstyles, influenced men's fashion.\n",
      "*   **He had a secret code name:** During his presidency, Kennedy's Secret Service code name was \"Lancer.\"\n",
      "*   **He was a Pulitzer Prize winner:** Kennedy won a Pulitzer Prize for his book \"Profiles in Courage.\"\n",
      "*   **He had a close relationship with his siblings:** Kennedy was very close to his siblings, especially his sister Eunice and his brothers Robert and Ted.\n",
      "*   **He was a fan of James Bond:** Kennedy was a big fan of Ian Fleming's James Bond novels.\n",
      "*   **He had a pet dog named Charlie:** Kennedy had a Welsh Terrier named Charlie.\n",
      "\n"
     ]
    }
   ],
   "source": [
    "#Chat template\n",
    "from langchain_core.prompts import ChatPromptTemplate\n",
    "\n",
    "chat_template = ChatPromptTemplate.from_messages(\n",
    "  [\n",
    "    (\"system\", \"You are a {profession} expert about {topic}.\"),\n",
    "    (\"user\", \"Hello, can you answer some questions about {topic}?\"),\n",
    "    (\"assistant\", \"Sure, I can help you with that.\"),\n",
    "    (\"user\", \"{user_input}\"),\n",
    "  ]\n",
    ")\n",
    "\n",
    "message = chat_template.format_messages(\n",
    "  profession=\"historian\",\n",
    "  topic=\"John F Kennedy\",\n",
    "  user_input=\"Tell me some curious things of John F Kennedy with some short sentences.\"\n",
    ")\n",
    "response = chatModel.invoke(message)\n",
    "print(response.content)"
   ]
  },
  {
   "cell_type": "markdown",
   "id": "f58683a5",
   "metadata": {},
   "source": [
    "## Fewshot prompting"
   ]
  },
  {
   "cell_type": "code",
   "execution_count": 17,
   "id": "9d6a5486",
   "metadata": {},
   "outputs": [],
   "source": [
    "from langchain_core.prompts import FewShotChatMessagePromptTemplate, ChatPromptTemplate\n",
    "\n",
    "examples = [\n",
    "    { \"input\": \"hi\", \"output\": \"Xin chào\" },\n",
    "    { \"input\": \"bye\", \"output\": \"tạm biệt\" },\n",
    "]\n",
    "\n",
    "example_prompt = ChatPromptTemplate.from_messages(\n",
    "    [\n",
    "        (\"user\", \"{input}\"),\n",
    "        (\"assistant\", \"{output}\"), \n",
    "    ]\n",
    ")\n",
    "\n",
    "fewshot = FewShotChatMessagePromptTemplate(\n",
    "    example_prompt=example_prompt,\n",
    "    examples=examples,\n",
    ")\n",
    "\n",
    "final_prompt = ChatPromptTemplate.from_messages(\n",
    "    [\n",
    "        (\"system\", \"You are a translator from English to Vietnamese.\"),\n",
    "        fewshot,\n",
    "        (\"user\", \"{input}\"),\n",
    "    ]\n",
    ")"
   ]
  },
  {
   "cell_type": "code",
   "execution_count": null,
   "id": "6ee5d30b",
   "metadata": {},
   "outputs": [
    {
     "ename": "AttributeError",
     "evalue": "'str' object has no attribute 'invoke'",
     "output_type": "error",
     "traceback": [
      "\u001b[31m---------------------------------------------------------------------------\u001b[39m",
      "\u001b[31mAttributeError\u001b[39m                            Traceback (most recent call last)",
      "\u001b[36mCell\u001b[39m\u001b[36m \u001b[39m\u001b[32mIn[19]\u001b[39m\u001b[32m, line 3\u001b[39m\n\u001b[32m      1\u001b[39m message = final_prompt.format_messages(\u001b[38;5;28minput\u001b[39m=\u001b[33m\"\u001b[39m\u001b[33mhello\u001b[39m\u001b[33m\"\u001b[39m)\n\u001b[32m----> \u001b[39m\u001b[32m3\u001b[39m response = \u001b[43mllmModelPrompt\u001b[49m\u001b[43m.\u001b[49m\u001b[43minvoke\u001b[49m(message)\n\u001b[32m      4\u001b[39m \u001b[38;5;28mprint\u001b[39m(response.content)\n",
      "\u001b[31mAttributeError\u001b[39m: 'str' object has no attribute 'invoke'"
     ]
    }
   ],
   "source": [
    "message = final_prompt.format_messages(input=\"hello\")\n",
    "\n",
    "response = chatModel.invoke(message)\n",
    "print(response.content)"
   ]
  },
  {
   "cell_type": "markdown",
   "id": "5151571d",
   "metadata": {},
   "source": [
    "## Chain"
   ]
  },
  {
   "cell_type": "code",
   "execution_count": 21,
   "id": "9a4967e0",
   "metadata": {},
   "outputs": [
    {
     "name": "stdout",
     "output_type": "stream",
     "text": [
      "Bạn khỏe không?\n",
      "\n"
     ]
    }
   ],
   "source": [
    "chain = final_prompt | chatModel \n",
    "res2 = chain.invoke({\"input\": \"how are you?\"})\n",
    "print(res2.content)"
   ]
  },
  {
   "cell_type": "code",
   "execution_count": null,
   "id": "eb2724db",
   "metadata": {},
   "outputs": [],
   "source": [
    "#Langchain expression Language"
   ]
  },
  {
   "cell_type": "markdown",
   "id": "9b44255a",
   "metadata": {},
   "source": [
    "## Output Parser"
   ]
  },
  {
   "cell_type": "code",
   "execution_count": 22,
   "id": "acde2a09",
   "metadata": {},
   "outputs": [
    {
     "name": "stdout",
     "output_type": "stream",
     "text": [
      "{'answer': 'Hanoi'}\n"
     ]
    }
   ],
   "source": [
    "from langchain_core.prompts import ChatPromptTemplate\n",
    "from langchain_core.output_parsers.json import SimpleJsonOutputParser\n",
    "\n",
    "json_prompt = PromptTemplate.from_template(\n",
    "    \"return a json object with an 'answer' field that answer the question: {question}\"\n",
    ")\n",
    "\n",
    "json_parser = SimpleJsonOutputParser()\n",
    "\n",
    "json_chain = json_prompt | chatModel | json_parser\n",
    "\n",
    "res = json_chain.invoke({\"question\": \"What is the capital of Vietnam?\"})\n",
    "print(res)"
   ]
  },
  {
   "cell_type": "markdown",
   "id": "e8711a9b",
   "metadata": {},
   "source": [
    "You can use Pydantic model to define a custom output format"
   ]
  },
  {
   "cell_type": "code",
   "execution_count": 23,
   "id": "31bf4d90",
   "metadata": {},
   "outputs": [],
   "source": [
    "from langchain_core.output_parsers import JsonOutputParser\n",
    "from langchain_core.prompts import ChatPromptTemplate\n",
    "from langchain_core.pydantic_v1 import BaseModel, Field"
   ]
  },
  {
   "cell_type": "code",
   "execution_count": 24,
   "id": "e7aa47a6",
   "metadata": {},
   "outputs": [],
   "source": [
    "# define a Pydantic model for the output\n",
    "class Joke(BaseModel):\n",
    "    setup: str = Field(description=\"The setup of the joke\")\n",
    "    punchline: str = Field(description=\"The punchline of the joke\")"
   ]
  },
  {
   "cell_type": "code",
   "execution_count": 25,
   "id": "a1321184",
   "metadata": {},
   "outputs": [
    {
     "data": {
      "text/plain": [
       "{'setup': \"Why don't scientists trust atoms?\",\n",
       " 'punchline': 'Because they make up everything!'}"
      ]
     },
     "execution_count": 25,
     "metadata": {},
     "output_type": "execute_result"
    }
   ],
   "source": [
    "# Define the parser referring the Pydantic Object\n",
    "parser = JsonOutputParser(pydantic_object=Joke)\n",
    "\n",
    "# Add the parser format instructions in the prompt definition.\n",
    "prompt = PromptTemplate(\n",
    "    template=\"Answer the user query.\\n{format_instructions}\\n{query}\\n\",\n",
    "    input_variables=[\"query\"],\n",
    "    partial_variables={\"format_instructions\": parser.get_format_instructions()},\n",
    ")\n",
    "\n",
    "# Create a chain with the prompt and the parser\n",
    "chain = prompt | chatModel | parser\n",
    "\n",
    "chain.invoke({\"query\": \"Tell me a joke.\"})"
   ]
  },
  {
   "cell_type": "code",
   "execution_count": 26,
   "id": "008068c5",
   "metadata": {},
   "outputs": [
    {
     "data": {
      "text/plain": [
       "'The output should be formatted as a JSON instance that conforms to the JSON schema below.\\n\\nAs an example, for the schema {\"properties\": {\"foo\": {\"title\": \"Foo\", \"description\": \"a list of strings\", \"type\": \"array\", \"items\": {\"type\": \"string\"}}}, \"required\": [\"foo\"]}\\nthe object {\"foo\": [\"bar\", \"baz\"]} is a well-formatted instance of the schema. The object {\"properties\": {\"foo\": [\"bar\", \"baz\"]}} is not well-formatted.\\n\\nHere is the output schema:\\n```\\n{\"properties\": {\"setup\": {\"title\": \"Setup\", \"description\": \"The setup of the joke\", \"type\": \"string\"}, \"punchline\": {\"title\": \"Punchline\", \"description\": \"The punchline of the joke\", \"type\": \"string\"}}, \"required\": [\"setup\", \"punchline\"]}\\n```'"
      ]
     },
     "execution_count": 26,
     "metadata": {},
     "output_type": "execute_result"
    }
   ],
   "source": [
    "parser.get_format_instructions()"
   ]
  }
 ],
 "metadata": {
  "kernelspec": {
   "display_name": "learnlangchain",
   "language": "python",
   "name": "python3"
  },
  "language_info": {
   "codemirror_mode": {
    "name": "ipython",
    "version": 3
   },
   "file_extension": ".py",
   "mimetype": "text/x-python",
   "name": "python",
   "nbconvert_exporter": "python",
   "pygments_lexer": "ipython3",
   "version": "3.12.0"
  }
 },
 "nbformat": 4,
 "nbformat_minor": 5
}
